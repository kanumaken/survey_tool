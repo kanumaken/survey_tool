{
 "cells": [
  {
   "cell_type": "code",
   "execution_count": 6,
   "id": "fdbc184d-2ffb-4db5-aa73-56ec64ce8dda",
   "metadata": {},
   "outputs": [
    {
     "ename": "ModuleNotFoundError",
     "evalue": "No module named 'scripts.user_model'",
     "output_type": "error",
     "traceback": [
      "\u001b[31m---------------------------------------------------------------------------\u001b[39m",
      "\u001b[31mModuleNotFoundError\u001b[39m                       Traceback (most recent call last)",
      "\u001b[36mCell\u001b[39m\u001b[36m \u001b[39m\u001b[32mIn[6]\u001b[39m\u001b[32m, line 2\u001b[39m\n\u001b[32m      1\u001b[39m \u001b[38;5;28;01mfrom\u001b[39;00m\u001b[38;5;250m \u001b[39m\u001b[34;01mpymongo\u001b[39;00m\u001b[38;5;250m \u001b[39m\u001b[38;5;28;01mimport\u001b[39;00m MongoClient\n\u001b[32m----> \u001b[39m\u001b[32m2\u001b[39m \u001b[38;5;28;01mfrom\u001b[39;00m\u001b[38;5;250m \u001b[39m\u001b[34;01mscripts\u001b[39;00m\u001b[34;01m.\u001b[39;00m\u001b[34;01muser_model\u001b[39;00m\u001b[38;5;250m \u001b[39m\u001b[38;5;28;01mimport\u001b[39;00m User\n\u001b[32m      3\u001b[39m \u001b[38;5;28;01mimport\u001b[39;00m\u001b[38;5;250m \u001b[39m\u001b[34;01mcsv\u001b[39;00m\n\u001b[32m      4\u001b[39m \u001b[38;5;28;01mimport\u001b[39;00m\u001b[38;5;250m \u001b[39m\u001b[34;01mos\u001b[39;00m\n",
      "\u001b[31mModuleNotFoundError\u001b[39m: No module named 'scripts.user_model'"
     ]
    }
   ],
   "source": [
    "from pymongo import MongoClient\n",
    "from scripts.user_model import User\n",
    "import csv\n",
    "import os\n",
    "from dotenv import load_dotenv\n",
    "\n",
    "load_dotenv()\n",
    "client = MongoClient(os.getenv(\"MONGO_URI\"))\n",
    "db = client['survey_db']\n",
    "collection = db['participants']\n",
    "\n",
    "users = [User(doc['age'], doc['gender'], doc['total_income'], doc.get('expenses', {})) for doc in collection.find()]\n",
    "\n",
    "output_path = \"data/survey_data.csv\"\n",
    "os.makedirs(\"data\", exist_ok=True)\n",
    "\n",
    "with open(output_path, 'w', newline='') as file:\n",
    "    writer = csv.DictWriter(file, fieldnames=users[0].to_dict().keys())\n",
    "    writer.writeheader()\n",
    "    for user in users:\n",
    "        writer.writerow(user.to_dict())\n",
    "\n",
    "print(\"Data exported to\", output_path)\n"
   ]
  },
  {
   "cell_type": "code",
   "execution_count": null,
   "id": "51c351e3-2e7e-40fe-a21f-fc25272893dd",
   "metadata": {},
   "outputs": [],
   "source": []
  }
 ],
 "metadata": {
  "kernelspec": {
   "display_name": "Python 3 (ipykernel)",
   "language": "python",
   "name": "python3"
  },
  "language_info": {
   "codemirror_mode": {
    "name": "ipython",
    "version": 3
   },
   "file_extension": ".py",
   "mimetype": "text/x-python",
   "name": "python",
   "nbconvert_exporter": "python",
   "pygments_lexer": "ipython3",
   "version": "3.11.2"
  }
 },
 "nbformat": 4,
 "nbformat_minor": 5
}
