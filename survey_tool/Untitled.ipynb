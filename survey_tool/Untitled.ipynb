{
 "cells": [
  {
   "cell_type": "code",
   "execution_count": 4,
   "id": "fdbc184d-2ffb-4db5-aa73-56ec64ce8dda",
   "metadata": {},
   "outputs": [
    {
     "ename": "SyntaxError",
     "evalue": "unexpected character after line continuation character (1733779694.py, line 2)",
     "output_type": "error",
     "traceback": [
      "  \u001b[36mCell\u001b[39m\u001b[36m \u001b[39m\u001b[32mIn[4]\u001b[39m\u001b[32m, line 2\u001b[39m\n\u001b[31m    \u001b[39m\u001b[31mfrom scripts\\user_model import User\u001b[39m\n                 ^\n\u001b[31mSyntaxError\u001b[39m\u001b[31m:\u001b[39m unexpected character after line continuation character\n"
     ]
    }
   ],
   "source": [
    "from pymongo import MongoClient\n",
    "from scripts\\user_model import User\n",
    "import csv\n",
    "import os\n",
    "from dotenv import load_dotenv\n",
    "\n",
    "load_dotenv()\n",
    "client = MongoClient(os.getenv(\"MONGO_URI\"))\n",
    "db = client['survey_db']\n",
    "collection = db['participants']\n",
    "\n",
    "users = [User(doc['age'], doc['gender'], doc['total_income'], doc.get('expenses', {})) for doc in collection.find()]\n",
    "\n",
    "output_path = \"data/survey_data.csv\"\n",
    "os.makedirs(\"data\", exist_ok=True)\n",
    "\n",
    "with open(output_path, 'w', newline='') as file:\n",
    "    writer = csv.DictWriter(file, fieldnames=users[0].to_dict().keys())\n",
    "    writer.writeheader()\n",
    "    for user in users:\n",
    "        writer.writerow(user.to_dict())\n",
    "\n",
    "print(\"Data exported to\", output_path)\n"
   ]
  },
  {
   "cell_type": "code",
   "execution_count": null,
   "id": "51c351e3-2e7e-40fe-a21f-fc25272893dd",
   "metadata": {},
   "outputs": [],
   "source": []
  }
 ],
 "metadata": {
  "kernelspec": {
   "display_name": "Python 3 (ipykernel)",
   "language": "python",
   "name": "python3"
  },
  "language_info": {
   "codemirror_mode": {
    "name": "ipython",
    "version": 3
   },
   "file_extension": ".py",
   "mimetype": "text/x-python",
   "name": "python",
   "nbconvert_exporter": "python",
   "pygments_lexer": "ipython3",
   "version": "3.11.2"
  }
 },
 "nbformat": 4,
 "nbformat_minor": 5
}
